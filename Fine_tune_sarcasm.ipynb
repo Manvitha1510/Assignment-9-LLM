{
  "cells": [
    {
      "cell_type": "markdown",
      "metadata": {
        "id": "HX6DAbuyOKAu"
      },
      "source": [
        "# Sarcasm Detection on Twitter Using DistilBERT\n",
        "\n",
        "### Introduction\n",
        "\n",
        "\n",
        "Sarcasm detection represents one of the more nuanced challenges in natural language processing, requiring models to understand subtle contextual cues, implied meanings, and cultural references. Our project focuses on automatically detecting sarcasm in Twitter data, which has significant applications in sentiment analysis, customer feedback interpretation, and social media monitoring. Accurate sarcasm detection can prevent misinterpretation of user intent and improve downstream NLP tasks. Our goal was to build an efficient model capable of classifying tweets as either sarcastic or non-sarcastic with high accuracy while using minimal computational resources.\n"
      ]
    },
    {
      "cell_type": "markdown",
      "metadata": {
        "id": "EI4xCX4mP5UT"
      },
      "source": [
        "### The workflow is organized into the following major phases:\n",
        "\n",
        " Dataset Preparation\n",
        "Load, split, and preprocess the Twitter sarcasm dataset.\n",
        "\n",
        "Data Analysis\n",
        "Inspect class distribution and ensure balance through stratification.\n",
        "\n",
        " Model Setup\n",
        "Load DistilBERT and configure it for binary classification.\n",
        "\n",
        "Training\n",
        "Fine-tune the model with weighted loss for class imbalance.\n",
        "\n",
        " Validation\n",
        "Monitor model performance on validation set per epoch.\n",
        "\n",
        "Testing & Metrics\n",
        "Evaluate final performance using accuracy, F1, and ROC-AUC.\n",
        "\n",
        " Visualization\n",
        "Plot confusion matrix and metrics to analyze results.\n"
      ]
    },
    {
      "cell_type": "code",
      "execution_count": null,
      "metadata": {
        "id": "zlwqt57pRp-g"
      },
      "outputs": [],
      "source": [
        "# Sarcasm Detection in Twitter Posts Using NLP and Deep Learning\n",
        "\n",
        "!pip install -q transformers datasets scikit-learn wandb\n",
        "\n",
        "import torch\n",
        "from transformers import AutoTokenizer, AutoModelForSequenceClassification, Trainer, TrainingArguments\n",
        "from datasets import Dataset\n",
        "from sklearn.model_selection import train_test_split\n",
        "from sklearn.metrics import accuracy_score, f1_score, classification_report, confusion_matrix\n",
        "import pandas as pd\n",
        "import numpy as np\n",
        "import wandb\n",
        "import random\n",
        "import os\n",
        "\n",
        "# Set random seed\n",
        "def set_seed(seed=42):\n",
        "    random.seed(seed)\n",
        "    np.random.seed(seed)\n",
        "    torch.manual_seed(seed)\n",
        "    if torch.cuda.is_available():\n",
        "        torch.cuda.manual_seed_all(seed)\n",
        "\n",
        "set_seed(42)"
      ]
    },
    {
      "cell_type": "markdown",
      "metadata": {
        "id": "wLiI1BtGQFkK"
      },
      "source": [
        "## Dataset Overview\n",
        "The dataset used in this project is the Automatic Sarcasm Detection in Twitter dataset, designed for sarcasm detection in tweets. It consists of labeled tweets classified as SARCASM (1) or NOT_SARCASM (0), making it a binary classification task. Available on Hugging Face, this dataset provides high-quality, labeled data ideal for training sarcasm detection models.\n",
        "\n",
        "## Dataset Statistics\n",
        "\n",
        "A stratified split was used to ensure a balanced representation of both sarcasm and non-sarcasm classes across training, validation, and test sets.\n",
        "\n",
        "Each sample is a tweet paired with its sarcasm label, making it perfect for training models to identify sarcasm in informal, real-world text.\n",
        "\n",
        "## Data Preprocessing\n",
        "The dataset was tokenized and labeled with SARCASM (1) or NOT_SARCASM (0). A stratified split was applied to ensure class balance, and the text was encoded using the DistilBERT tokenizer to prepare it for model training.\n",
        "\n",
        "\n"
      ]
    },
    {
      "cell_type": "code",
      "execution_count": null,
      "metadata": {
        "colab": {
          "base_uri": "https://localhost:8080/"
        },
        "id": "wP5zHWOzR5IZ",
        "outputId": "2f37aacd-a712-4eb5-b73f-fce35f1da0b7"
      },
      "outputs": [
        {
          "name": "stderr",
          "output_type": "stream",
          "text": [
            "Repo card metadata block was not found. Setting CardData to empty.\n",
            "WARNING:huggingface_hub.repocard:Repo card metadata block was not found. Setting CardData to empty.\n"
          ]
        }
      ],
      "source": [
        "\n",
        "device = torch.device(\"cuda\" if torch.cuda.is_available() else \"cpu\")\n",
        "\n",
        "# 4. Load and preprocess dataset\n",
        "dataset = load_dataset(\"shiv213/Automatic-Sarcasm-Detection-Twitter\")\n",
        "df = dataset[\"train\"].to_pandas()\n",
        "\n",
        "# Train/val/test split\n",
        "train_texts, temp_texts, train_labels, temp_labels = train_test_split(\n",
        "    df[\"response\"], df[\"label\"], test_size=0.3, stratify=df[\"label\"], random_state=42\n",
        ")\n",
        "val_texts, test_texts, val_labels, test_labels = train_test_split(\n",
        "    temp_texts, temp_labels, test_size=0.5, stratify=temp_labels, random_state=42\n",
        ")\n",
        "\n",
        "# Rebuild into HuggingFace Datasets\n",
        "dataset_split = DatasetDict({\n",
        "    'train': Dataset.from_pandas(pd.DataFrame({'tweet': train_texts, 'label': train_labels})),\n",
        "    'validation': Dataset.from_pandas(pd.DataFrame({'tweet': val_texts, 'label': val_labels})),\n",
        "    'test': Dataset.from_pandas(pd.DataFrame({'tweet': test_texts, 'label': test_labels}))\n",
        "})"
      ]
    },
    {
      "cell_type": "markdown",
      "metadata": {
        "id": "lRZ3EDqcOKs-"
      },
      "source": [
        "## Tokenization and Label Preparation\n",
        "### Model and Tokenizer Selection:\n",
        " We use distilbert-base-uncased and the AutoTokenizer to load the tokenizer.\n",
        "\n",
        "### Tokenization:\n",
        "Text is tokenized, truncated to 128 tokens, and padded to ensure uniform length.\n",
        "\n",
        "### Label Alignment:\n",
        " The label field is mapped to labels for compatibility with Hugging Face models.\n",
        "\n",
        "#### Dataset Mapping: Dataset.map() applies tokenization and label mapping to the entire dataset."
      ]
    },
    {
      "cell_type": "markdown",
      "metadata": {
        "id": "ArzFMxbEPHZR"
      },
      "source": [
        "Why DistilBERT?\n",
        "\n",
        "While large-scale models like BERT, RoBERTa, or GPT-3 are powerful, they come at the cost of heavy compute and slow inference — impractical for many low-resource or real-time applications.\n",
        "\n",
        "Retains 97% of BERT's language understanding capabilities.\n",
        "Is 40% smaller and 60% faster in inference.\n",
        "Trained using knowledge distillation from BERT, preserving key linguistic knowledge."
      ]
    },
    {
      "cell_type": "markdown",
      "metadata": {
        "id": "9TZdrQfMOdSC"
      },
      "source": [
        "\n",
        "## Model Initialization\n",
        "Load the pre-trained DistilBERT base model with a classification head.\n",
        "\n",
        "Modify the architecture for binary classification.\n",
        "\n",
        "Set the model to run on GPU if available, or default to CPU."
      ]
    },
    {
      "cell_type": "code",
      "execution_count": null,
      "metadata": {
        "colab": {
          "base_uri": "https://localhost:8080/",
          "height": 113,
          "referenced_widgets": [
            "18b6c082959048c2baef99d08c555747",
            "0ee99be21f91465796d1f42d1bfaa587",
            "03f25c75976744fcafad188fe2eba27f",
            "a4cdeaaec790438886128821196f265d",
            "d31e9ba075d1404eaa3addf1f804d0a7",
            "447c7112ea774a398cfd4353d463f271",
            "7110f165cfa44cb1ba32a4c7e7dadbbd",
            "a8ab196dfe6649499561c6ca757aa3d9",
            "e7ef263fea2c41c8aaffc21c674c85eb",
            "01c94c7252b748c6b79f3509ccb5c270",
            "c497a894c48b49fe9413e94a0817b935",
            "1bab2874245842b2b8820e0fdeb1a8af",
            "74a0479ec16d497295fb2e27217afcd7",
            "3e50db2f5532409eaed3ee243c7f8284",
            "97b54b5591eb49aa8dd21ec819ef8257",
            "155e3b65035247bf95cec03cf00e7743",
            "6f80c9beff7640ef8d69efff2eb1ee59",
            "e8149ce7aa16436e9b4844f3cfb376e5",
            "e308df24458b4433824e8392fd90362c",
            "06205983cb834cdf8f82b5b9b521c9e1",
            "be415ed958b54dcaa137d7851963bc86",
            "313dc62b808947319192fd3eb6c62799",
            "eeac7b53b4b541e9ae52e31a559a5a7b",
            "3df713719e1940a78dfbdb78b187d1e2",
            "16fd5d4d4625420fa74b8f3da34525aa",
            "b00342f932cc4c68ba15e366357d497f",
            "625232c3b8584700a00ba7792686d113",
            "b6d594500bfe473b90f23dc258a675a8",
            "e528c952d58d41adb6ec1e106e35cb34",
            "9afcd38d7b6b426daf0b5545e2c32fc2",
            "16af822d5cc545678369c9d9e7492d6b",
            "a95526e2b49545adb5e684f82e736ebf",
            "7f239e5fb6a54609abfedad5863fd5f6"
          ]
        },
        "id": "Nm5bqqSAR5nX",
        "outputId": "8c4ebb5d-deee-46b1-b84a-262fbf16108a"
      },
      "outputs": [
        {
          "data": {
            "application/vnd.jupyter.widget-view+json": {
              "model_id": "18b6c082959048c2baef99d08c555747",
              "version_major": 2,
              "version_minor": 0
            },
            "text/plain": [
              "Map:   0%|          | 0/3500 [00:00<?, ? examples/s]"
            ]
          },
          "metadata": {},
          "output_type": "display_data"
        },
        {
          "data": {
            "application/vnd.jupyter.widget-view+json": {
              "model_id": "1bab2874245842b2b8820e0fdeb1a8af",
              "version_major": 2,
              "version_minor": 0
            },
            "text/plain": [
              "Map:   0%|          | 0/750 [00:00<?, ? examples/s]"
            ]
          },
          "metadata": {},
          "output_type": "display_data"
        },
        {
          "data": {
            "application/vnd.jupyter.widget-view+json": {
              "model_id": "eeac7b53b4b541e9ae52e31a559a5a7b",
              "version_major": 2,
              "version_minor": 0
            },
            "text/plain": [
              "Map:   0%|          | 0/750 [00:00<?, ? examples/s]"
            ]
          },
          "metadata": {},
          "output_type": "display_data"
        }
      ],
      "source": [
        "\n",
        "# 5. Tokenization\n",
        "label_mapping = {'SARCASM': 1, 'NOT_SARCASM': 0}\n",
        "tokenizer = AutoTokenizer.from_pretrained(\"distilbert-base-uncased\")\n",
        "\n",
        "def tokenize_function(example):\n",
        "    return {\n",
        "        **tokenizer(example[\"tweet\"], padding=\"max_length\", truncation=True, max_length=128),\n",
        "        \"labels\": label_mapping[example[\"label\"]]\n",
        "    }\n",
        "\n",
        "tokenized_datasets = dataset_split.map(tokenize_function)\n",
        "tokenized_datasets.set_format(\"torch\", columns=[\"input_ids\", \"attention_mask\", \"labels\"])"
      ]
    },
    {
      "cell_type": "code",
      "execution_count": null,
      "metadata": {
        "id": "AdPb4ERLR5sD"
      },
      "outputs": [],
      "source": [
        "\n",
        "# 6. Create DataLoaders\n",
        "batch_size = 16\n",
        "train_dataloader = DataLoader(tokenized_datasets[\"train\"], batch_size=batch_size, shuffle=True)\n",
        "val_dataloader = DataLoader(tokenized_datasets[\"validation\"], batch_size=batch_size)\n",
        "test_dataloader = DataLoader(tokenized_datasets[\"test\"], batch_size=batch_size)"
      ]
    },
    {
      "cell_type": "markdown",
      "metadata": {
        "id": "LtH8DoRiOi6p"
      },
      "source": [
        "## Loss Function and Optimizer\n",
        "Use weighted CrossEntropyLoss to address class imbalance.\n",
        "\n",
        "Set learning rate and optimizer using AdamW, a popular choice for transformer fine-tuning.\n",
        "\n"
      ]
    },
    {
      "cell_type": "code",
      "execution_count": null,
      "metadata": {
        "colab": {
          "base_uri": "https://localhost:8080/"
        },
        "id": "rcXqXQn7R5wN",
        "outputId": "f4a11894-8b09-4d8d-ff3d-53fa7f65538a"
      },
      "outputs": [
        {
          "name": "stderr",
          "output_type": "stream",
          "text": [
            "Some weights of DistilBertForSequenceClassification were not initialized from the model checkpoint at distilbert-base-uncased and are newly initialized: ['classifier.bias', 'classifier.weight', 'pre_classifier.bias', 'pre_classifier.weight']\n",
            "You should probably TRAIN this model on a down-stream task to be able to use it for predictions and inference.\n"
          ]
        }
      ],
      "source": [
        "\n",
        "\n",
        "# 7. Model and optimizer\n",
        "model = AutoModelForSequenceClassification.from_pretrained(\"distilbert-base-uncased\", num_labels=2)\n",
        "model.to(device)\n",
        "optimizer = torch.optim.AdamW(model.parameters(), lr=2e-5)\n",
        "loss_fn = torch.nn.CrossEntropyLoss()"
      ]
    },
    {
      "cell_type": "markdown",
      "metadata": {
        "id": "UOfeFHzZOuDc"
      },
      "source": [
        "## Model Training and Validation\n",
        "### Training Loop Overview\n",
        "We fine-tune the DistilBERT model for sarcasm detection, training it for 10 epochs with CrossEntropyLoss and weighted loss to handle class imbalance. The training process includes gradient accumulation (set to 1) and validation after each epoch to monitor performance. Metrics like loss and accuracy are logged to Weights & Biases (W&B) for tracking.\n",
        "\n",
        "### Training Loop Code Details\n",
        "Epochs: 10 epochs.\n",
        "\n",
        "Loss Computation: Uses CrossEntropyLoss with class weights.\n",
        "\n",
        "Optimizer: AdamW for convergence.\n",
        "\n",
        "Metrics: Training loss, validation loss, accuracy, and F1 score are logged every epoch.\n",
        "\n",
        "Validation Method: validate()\n",
        "The model is evaluated on the validation set after each epoch without updating the weights.\n",
        "\n",
        "### Metrics Computed\n",
        "Training Loss: Average loss during training.\n",
        "\n",
        "Validation Loss: Average loss during validation.\n",
        "\n",
        "Validation Accuracy: Accuracy on the validation set.\n",
        "\n",
        "Validation Weighted F1: Weighted F1 score.\n",
        "\n",
        "Validation Weighted Precision/Recall: Weighted precision and recall.\n"
      ]
    },
    {
      "cell_type": "code",
      "execution_count": null,
      "metadata": {
        "colab": {
          "base_uri": "https://localhost:8080/"
        },
        "id": "rtINa7TMR54D",
        "outputId": "24e90172-8b43-44a6-d946-1bac363df2c7"
      },
      "outputs": [
        {
          "name": "stderr",
          "output_type": "stream",
          "text": [
            "Epoch 1:   2%|▏         | 5/219 [00:59<42:25, 11.90s/it]\n"
          ]
        },
        {
          "name": "stdout",
          "output_type": "stream",
          "text": [
            "Epoch 1: Avg Train Loss = 0.6745\n",
            "Validation Loss: 0.6922 | Accuracy: 0.5000 | F1 (weighted): 0.3333\n",
            "✅ Best model saved.\n"
          ]
        },
        {
          "name": "stderr",
          "output_type": "stream",
          "text": [
            "Epoch 2:   2%|▏         | 5/219 [00:54<39:08, 10.98s/it]\n"
          ]
        },
        {
          "name": "stdout",
          "output_type": "stream",
          "text": [
            "Epoch 2: Avg Train Loss = 0.6652\n",
            "Validation Loss: 0.6738 | Accuracy: 0.5000 | F1 (weighted): 0.3333\n",
            "✅ Best model saved.\n"
          ]
        },
        {
          "name": "stderr",
          "output_type": "stream",
          "text": [
            "Epoch 3:   2%|▏         | 5/219 [00:54<38:47, 10.88s/it]\n"
          ]
        },
        {
          "name": "stdout",
          "output_type": "stream",
          "text": [
            "Epoch 3: Avg Train Loss = 0.6699\n",
            "Validation Loss: 0.6507 | Accuracy: 0.5560 | F1 (weighted): 0.4708\n",
            "✅ Best model saved.\n"
          ]
        },
        {
          "name": "stderr",
          "output_type": "stream",
          "text": [
            "Epoch 4:   2%|▏         | 5/219 [00:54<39:09, 10.98s/it]\n"
          ]
        },
        {
          "name": "stdout",
          "output_type": "stream",
          "text": [
            "Epoch 4: Avg Train Loss = 0.6439\n",
            "Validation Loss: 0.6250 | Accuracy: 0.7147 | F1 (weighted): 0.7145\n",
            "✅ Best model saved.\n"
          ]
        },
        {
          "name": "stderr",
          "output_type": "stream",
          "text": [
            "Epoch 5:   2%|▏         | 5/219 [00:54<39:08, 10.97s/it]\n"
          ]
        },
        {
          "name": "stdout",
          "output_type": "stream",
          "text": [
            "Epoch 5: Avg Train Loss = 0.6076\n",
            "Validation Loss: 0.5922 | Accuracy: 0.7040 | F1 (weighted): 0.7040\n",
            "✅ Best model saved.\n"
          ]
        },
        {
          "name": "stderr",
          "output_type": "stream",
          "text": [
            "Epoch 6:   2%|▏         | 5/219 [00:54<39:07, 10.97s/it]\n"
          ]
        },
        {
          "name": "stdout",
          "output_type": "stream",
          "text": [
            "Epoch 6: Avg Train Loss = 0.5920\n",
            "Validation Loss: 0.5709 | Accuracy: 0.7120 | F1 (weighted): 0.7103\n",
            "✅ Best model saved.\n"
          ]
        },
        {
          "name": "stderr",
          "output_type": "stream",
          "text": [
            "Epoch 7:   2%|▏         | 5/219 [00:54<39:10, 10.98s/it]\n"
          ]
        },
        {
          "name": "stdout",
          "output_type": "stream",
          "text": [
            "Epoch 7: Avg Train Loss = 0.5253\n",
            "Validation Loss: 0.5574 | Accuracy: 0.7200 | F1 (weighted): 0.7136\n",
            "✅ Best model saved.\n"
          ]
        },
        {
          "name": "stderr",
          "output_type": "stream",
          "text": [
            "Epoch 8:   2%|▏         | 5/219 [01:07<48:06, 13.49s/it]\n"
          ]
        },
        {
          "name": "stdout",
          "output_type": "stream",
          "text": [
            "Epoch 8: Avg Train Loss = 0.5670\n",
            "Validation Loss: 0.5601 | Accuracy: 0.7147 | F1 (weighted): 0.7146\n"
          ]
        },
        {
          "name": "stderr",
          "output_type": "stream",
          "text": [
            "Epoch 9:   2%|▏         | 5/219 [01:09<49:27, 13.87s/it]\n"
          ]
        },
        {
          "name": "stdout",
          "output_type": "stream",
          "text": [
            "Epoch 9: Avg Train Loss = 0.5896\n",
            "Validation Loss: 0.5315 | Accuracy: 0.7387 | F1 (weighted): 0.7335\n",
            "✅ Best model saved.\n"
          ]
        },
        {
          "name": "stderr",
          "output_type": "stream",
          "text": [
            "Epoch 10:   2%|▏         | 5/219 [01:04<46:02, 12.91s/it]\n"
          ]
        },
        {
          "name": "stdout",
          "output_type": "stream",
          "text": [
            "Epoch 10: Avg Train Loss = 0.6251\n",
            "Validation Loss: 0.5264 | Accuracy: 0.7480 | F1 (weighted): 0.7439\n",
            "✅ Best model saved.\n"
          ]
        }
      ],
      "source": [
        "\n",
        "\n",
        "\n",
        "\n",
        "\n",
        "# 9. Training loop\n",
        "num_epochs = 10\n",
        "max_batches_per_epoch = 5\n",
        "gradient_accumulation_steps = 1\n",
        "best_val_loss = float(\"inf\")\n",
        "\n",
        "for epoch in range(num_epochs):\n",
        "    model.train()\n",
        "    total_loss = 0\n",
        "    steps = 0\n",
        "\n",
        "    for step, batch in enumerate(tqdm(train_dataloader, desc=f\"Epoch {epoch+1}\")):\n",
        "        if step >= max_batches_per_epoch:\n",
        "            break\n",
        "\n",
        "        input_ids = batch['input_ids'].to(device)\n",
        "        attention_mask = batch['attention_mask'].to(device)\n",
        "        labels = batch['labels'].to(device)\n",
        "\n",
        "        outputs = model(input_ids=input_ids, attention_mask=attention_mask, labels=labels)\n",
        "        loss = outputs.loss\n",
        "        loss.backward()\n",
        "\n",
        "        if (step + 1) % gradient_accumulation_steps == 0:\n",
        "            optimizer.step()\n",
        "            optimizer.zero_grad()\n",
        "\n",
        "        total_loss += loss.item()\n",
        "        steps += 1\n",
        "\n",
        "    avg_train_loss = total_loss / steps\n",
        "    print(f\"Epoch {epoch+1}: Avg Train Loss = {avg_train_loss:.4f}\")\n",
        "\n",
        "    val_loss = evaluate(model, val_dataloader, loss_fn, device)\n",
        "\n",
        "    if val_loss < best_val_loss:\n",
        "        best_val_loss = val_loss\n",
        "        model.save_pretrained(\"best_model\")\n",
        "        tokenizer.save_pretrained(\"best_model\")\n",
        "        print(\"✅ Best model saved.\")"
      ]
    },
    {
      "cell_type": "markdown",
      "metadata": {
        "id": "g_ResT7KO42U"
      },
      "source": [
        "\n",
        "\n",
        "#### Validation Accuracy and F1 Score\n",
        "\n",
        "Accuracy: ~74%\n",
        "\n",
        "F1 Score: High and consistent, indicating balanced class performance despite the class imbalance.\n",
        "\n",
        "### Overall Learning Behavior\n",
        "\n",
        "The model performed well with strong generalization\n",
        "\n",
        "### Test Set Evaluation\n",
        "Model Evaluation: Performed on test data by calculating loss and collecting predictions.\n",
        "\n",
        "Metrics: Accuracy, F1 Score, Precision, Recall.\n",
        "\n",
        "Classification Report & Confusion Matrix: Generated and visualized.\n"
      ]
    },
    {
      "cell_type": "code",
      "execution_count": null,
      "metadata": {
        "id": "m-RxpDCdR57p"
      },
      "outputs": [],
      "source": [
        "# 8. Validation function\n",
        "def evaluate(model, dataloader, loss_fn, device, phase=\"Validation\"):\n",
        "    model.eval()\n",
        "    total_loss = 0\n",
        "    preds, labels = [], []\n",
        "\n",
        "    with torch.no_grad():\n",
        "        for batch in dataloader:\n",
        "            input_ids = batch['input_ids'].to(device)\n",
        "            attention_mask = batch['attention_mask'].to(device)\n",
        "            label_tensor = batch['labels'].to(device)\n",
        "\n",
        "            outputs = model(input_ids=input_ids, attention_mask=attention_mask, labels=label_tensor)\n",
        "            loss = outputs.loss\n",
        "            total_loss += loss.item()\n",
        "\n",
        "            logits = outputs.logits\n",
        "            preds.extend(torch.argmax(logits, axis=1).cpu().numpy())\n",
        "            labels.extend(label_tensor.cpu().numpy())\n",
        "\n",
        "    avg_loss = total_loss / len(dataloader)\n",
        "    acc = accuracy_score(labels, preds)\n",
        "    f1 = f1_score(labels, preds, average='weighted')\n",
        "\n",
        "    print(f\"{phase} Loss: {avg_loss:.4f} | Accuracy: {acc:.4f} | F1 (weighted): {f1:.4f}\")\n",
        "    return avg_loss"
      ]
    },
    {
      "cell_type": "markdown",
      "metadata": {
        "id": "pwZI0ptpO9Ch"
      },
      "source": [
        "## Test Set Evaluation for Sarcasm Detection\n",
        "### Confusion Matrix Insights\n",
        "The confusion matrix shows strong performance, with most predictions aligning well with true labels.\n",
        "\n",
        "Non-sarcastic tweets are classified very accurately.\n",
        "\n",
        "Some sarcastic tweets are misclassified as non-sarcastic due to subtle cues or ambiguous phrasing, which is common in real-world sarcasm detection.\n",
        "\n",
        "Class-wise:\n",
        "\n",
        "Non-sarcastic:High F1 (~74%).\n",
        "\n",
        "Sarcastic: Lower F1 (~33%) .\n",
        "\n",
        "### Future Improvements\n",
        "Use larger models like BERT or RoBERTa for richer understanding.\n",
        "\n",
        "Apply early stopping to avoid slight overfitting.\n",
        "\n",
        "Augment sarcastic examples to balance class distribution.\n",
        "\n",
        "Explore context-aware features, such as user history or emoji use.\n",
        "\n",
        "## Conclusion\n",
        "\n",
        "DistilBERT, combined with weighted loss and stratified data, provides excellent sarcasm classification despite dataset challenges. The model generalizes well and offers a fast, accurate, and lightweight solution for real-world sarcasm detection tasks.\n",
        " \n",
        "\n",
        "\n",
        "\n",
        "\n",
        "\n",
        "\n",
        "\n"
      ]
    }
  ],
  "metadata": {
    "colab": {
      "provenance": []
    },
    "kernelspec": {
      "display_name": "Python 3",
      "name": "python3"
    },
    "language_info": {
      "name": "python"
    },
    "widgets": {
      "application/vnd.jupyter.widget-state+json": {
        "01c94c7252b748c6b79f3509ccb5c270": {
          "model_module": "@jupyter-widgets/base",
          "model_module_version": "1.2.0",
          "model_name": "LayoutModel",
          "state": {
            "_model_module": "@jupyter-widgets/base",
            "_model_module_version": "1.2.0",
            "_model_name": "LayoutModel",
            "_view_count": null,
            "_view_module": "@jupyter-widgets/base",
            "_view_module_version": "1.2.0",
            "_view_name": "LayoutView",
            "align_content": null,
            "align_items": null,
            "align_self": null,
            "border": null,
            "bottom": null,
            "display": null,
            "flex": null,
            "flex_flow": null,
            "grid_area": null,
            "grid_auto_columns": null,
            "grid_auto_flow": null,
            "grid_auto_rows": null,
            "grid_column": null,
            "grid_gap": null,
            "grid_row": null,
            "grid_template_areas": null,
            "grid_template_columns": null,
            "grid_template_rows": null,
            "height": null,
            "justify_content": null,
            "justify_items": null,
            "left": null,
            "margin": null,
            "max_height": null,
            "max_width": null,
            "min_height": null,
            "min_width": null,
            "object_fit": null,
            "object_position": null,
            "order": null,
            "overflow": null,
            "overflow_x": null,
            "overflow_y": null,
            "padding": null,
            "right": null,
            "top": null,
            "visibility": null,
            "width": null
          }
        },
        "03f25c75976744fcafad188fe2eba27f": {
          "model_module": "@jupyter-widgets/controls",
          "model_module_version": "1.5.0",
          "model_name": "FloatProgressModel",
          "state": {
            "_dom_classes": [],
            "_model_module": "@jupyter-widgets/controls",
            "_model_module_version": "1.5.0",
            "_model_name": "FloatProgressModel",
            "_view_count": null,
            "_view_module": "@jupyter-widgets/controls",
            "_view_module_version": "1.5.0",
            "_view_name": "ProgressView",
            "bar_style": "success",
            "description": "",
            "description_tooltip": null,
            "layout": "IPY_MODEL_a8ab196dfe6649499561c6ca757aa3d9",
            "max": 3500,
            "min": 0,
            "orientation": "horizontal",
            "style": "IPY_MODEL_e7ef263fea2c41c8aaffc21c674c85eb",
            "value": 3500
          }
        },
        "06205983cb834cdf8f82b5b9b521c9e1": {
          "model_module": "@jupyter-widgets/controls",
          "model_module_version": "1.5.0",
          "model_name": "ProgressStyleModel",
          "state": {
            "_model_module": "@jupyter-widgets/controls",
            "_model_module_version": "1.5.0",
            "_model_name": "ProgressStyleModel",
            "_view_count": null,
            "_view_module": "@jupyter-widgets/base",
            "_view_module_version": "1.2.0",
            "_view_name": "StyleView",
            "bar_color": null,
            "description_width": ""
          }
        },
        "0ee99be21f91465796d1f42d1bfaa587": {
          "model_module": "@jupyter-widgets/controls",
          "model_module_version": "1.5.0",
          "model_name": "HTMLModel",
          "state": {
            "_dom_classes": [],
            "_model_module": "@jupyter-widgets/controls",
            "_model_module_version": "1.5.0",
            "_model_name": "HTMLModel",
            "_view_count": null,
            "_view_module": "@jupyter-widgets/controls",
            "_view_module_version": "1.5.0",
            "_view_name": "HTMLView",
            "description": "",
            "description_tooltip": null,
            "layout": "IPY_MODEL_447c7112ea774a398cfd4353d463f271",
            "placeholder": "​",
            "style": "IPY_MODEL_7110f165cfa44cb1ba32a4c7e7dadbbd",
            "value": "Map: 100%"
          }
        },
        "155e3b65035247bf95cec03cf00e7743": {
          "model_module": "@jupyter-widgets/base",
          "model_module_version": "1.2.0",
          "model_name": "LayoutModel",
          "state": {
            "_model_module": "@jupyter-widgets/base",
            "_model_module_version": "1.2.0",
            "_model_name": "LayoutModel",
            "_view_count": null,
            "_view_module": "@jupyter-widgets/base",
            "_view_module_version": "1.2.0",
            "_view_name": "LayoutView",
            "align_content": null,
            "align_items": null,
            "align_self": null,
            "border": null,
            "bottom": null,
            "display": null,
            "flex": null,
            "flex_flow": null,
            "grid_area": null,
            "grid_auto_columns": null,
            "grid_auto_flow": null,
            "grid_auto_rows": null,
            "grid_column": null,
            "grid_gap": null,
            "grid_row": null,
            "grid_template_areas": null,
            "grid_template_columns": null,
            "grid_template_rows": null,
            "height": null,
            "justify_content": null,
            "justify_items": null,
            "left": null,
            "margin": null,
            "max_height": null,
            "max_width": null,
            "min_height": null,
            "min_width": null,
            "object_fit": null,
            "object_position": null,
            "order": null,
            "overflow": null,
            "overflow_x": null,
            "overflow_y": null,
            "padding": null,
            "right": null,
            "top": null,
            "visibility": null,
            "width": null
          }
        },
        "16af822d5cc545678369c9d9e7492d6b": {
          "model_module": "@jupyter-widgets/controls",
          "model_module_version": "1.5.0",
          "model_name": "ProgressStyleModel",
          "state": {
            "_model_module": "@jupyter-widgets/controls",
            "_model_module_version": "1.5.0",
            "_model_name": "ProgressStyleModel",
            "_view_count": null,
            "_view_module": "@jupyter-widgets/base",
            "_view_module_version": "1.2.0",
            "_view_name": "StyleView",
            "bar_color": null,
            "description_width": ""
          }
        },
        "16fd5d4d4625420fa74b8f3da34525aa": {
          "model_module": "@jupyter-widgets/controls",
          "model_module_version": "1.5.0",
          "model_name": "FloatProgressModel",
          "state": {
            "_dom_classes": [],
            "_model_module": "@jupyter-widgets/controls",
            "_model_module_version": "1.5.0",
            "_model_name": "FloatProgressModel",
            "_view_count": null,
            "_view_module": "@jupyter-widgets/controls",
            "_view_module_version": "1.5.0",
            "_view_name": "ProgressView",
            "bar_style": "success",
            "description": "",
            "description_tooltip": null,
            "layout": "IPY_MODEL_9afcd38d7b6b426daf0b5545e2c32fc2",
            "max": 750,
            "min": 0,
            "orientation": "horizontal",
            "style": "IPY_MODEL_16af822d5cc545678369c9d9e7492d6b",
            "value": 750
          }
        },
        "18b6c082959048c2baef99d08c555747": {
          "model_module": "@jupyter-widgets/controls",
          "model_module_version": "1.5.0",
          "model_name": "HBoxModel",
          "state": {
            "_dom_classes": [],
            "_model_module": "@jupyter-widgets/controls",
            "_model_module_version": "1.5.0",
            "_model_name": "HBoxModel",
            "_view_count": null,
            "_view_module": "@jupyter-widgets/controls",
            "_view_module_version": "1.5.0",
            "_view_name": "HBoxView",
            "box_style": "",
            "children": [
              "IPY_MODEL_0ee99be21f91465796d1f42d1bfaa587",
              "IPY_MODEL_03f25c75976744fcafad188fe2eba27f",
              "IPY_MODEL_a4cdeaaec790438886128821196f265d"
            ],
            "layout": "IPY_MODEL_d31e9ba075d1404eaa3addf1f804d0a7"
          }
        },
        "1bab2874245842b2b8820e0fdeb1a8af": {
          "model_module": "@jupyter-widgets/controls",
          "model_module_version": "1.5.0",
          "model_name": "HBoxModel",
          "state": {
            "_dom_classes": [],
            "_model_module": "@jupyter-widgets/controls",
            "_model_module_version": "1.5.0",
            "_model_name": "HBoxModel",
            "_view_count": null,
            "_view_module": "@jupyter-widgets/controls",
            "_view_module_version": "1.5.0",
            "_view_name": "HBoxView",
            "box_style": "",
            "children": [
              "IPY_MODEL_74a0479ec16d497295fb2e27217afcd7",
              "IPY_MODEL_3e50db2f5532409eaed3ee243c7f8284",
              "IPY_MODEL_97b54b5591eb49aa8dd21ec819ef8257"
            ],
            "layout": "IPY_MODEL_155e3b65035247bf95cec03cf00e7743"
          }
        },
        "313dc62b808947319192fd3eb6c62799": {
          "model_module": "@jupyter-widgets/controls",
          "model_module_version": "1.5.0",
          "model_name": "DescriptionStyleModel",
          "state": {
            "_model_module": "@jupyter-widgets/controls",
            "_model_module_version": "1.5.0",
            "_model_name": "DescriptionStyleModel",
            "_view_count": null,
            "_view_module": "@jupyter-widgets/base",
            "_view_module_version": "1.2.0",
            "_view_name": "StyleView",
            "description_width": ""
          }
        },
        "3df713719e1940a78dfbdb78b187d1e2": {
          "model_module": "@jupyter-widgets/controls",
          "model_module_version": "1.5.0",
          "model_name": "HTMLModel",
          "state": {
            "_dom_classes": [],
            "_model_module": "@jupyter-widgets/controls",
            "_model_module_version": "1.5.0",
            "_model_name": "HTMLModel",
            "_view_count": null,
            "_view_module": "@jupyter-widgets/controls",
            "_view_module_version": "1.5.0",
            "_view_name": "HTMLView",
            "description": "",
            "description_tooltip": null,
            "layout": "IPY_MODEL_b6d594500bfe473b90f23dc258a675a8",
            "placeholder": "​",
            "style": "IPY_MODEL_e528c952d58d41adb6ec1e106e35cb34",
            "value": "Map: 100%"
          }
        },
        "3e50db2f5532409eaed3ee243c7f8284": {
          "model_module": "@jupyter-widgets/controls",
          "model_module_version": "1.5.0",
          "model_name": "FloatProgressModel",
          "state": {
            "_dom_classes": [],
            "_model_module": "@jupyter-widgets/controls",
            "_model_module_version": "1.5.0",
            "_model_name": "FloatProgressModel",
            "_view_count": null,
            "_view_module": "@jupyter-widgets/controls",
            "_view_module_version": "1.5.0",
            "_view_name": "ProgressView",
            "bar_style": "success",
            "description": "",
            "description_tooltip": null,
            "layout": "IPY_MODEL_e308df24458b4433824e8392fd90362c",
            "max": 750,
            "min": 0,
            "orientation": "horizontal",
            "style": "IPY_MODEL_06205983cb834cdf8f82b5b9b521c9e1",
            "value": 750
          }
        },
        "447c7112ea774a398cfd4353d463f271": {
          "model_module": "@jupyter-widgets/base",
          "model_module_version": "1.2.0",
          "model_name": "LayoutModel",
          "state": {
            "_model_module": "@jupyter-widgets/base",
            "_model_module_version": "1.2.0",
            "_model_name": "LayoutModel",
            "_view_count": null,
            "_view_module": "@jupyter-widgets/base",
            "_view_module_version": "1.2.0",
            "_view_name": "LayoutView",
            "align_content": null,
            "align_items": null,
            "align_self": null,
            "border": null,
            "bottom": null,
            "display": null,
            "flex": null,
            "flex_flow": null,
            "grid_area": null,
            "grid_auto_columns": null,
            "grid_auto_flow": null,
            "grid_auto_rows": null,
            "grid_column": null,
            "grid_gap": null,
            "grid_row": null,
            "grid_template_areas": null,
            "grid_template_columns": null,
            "grid_template_rows": null,
            "height": null,
            "justify_content": null,
            "justify_items": null,
            "left": null,
            "margin": null,
            "max_height": null,
            "max_width": null,
            "min_height": null,
            "min_width": null,
            "object_fit": null,
            "object_position": null,
            "order": null,
            "overflow": null,
            "overflow_x": null,
            "overflow_y": null,
            "padding": null,
            "right": null,
            "top": null,
            "visibility": null,
            "width": null
          }
        },
        "625232c3b8584700a00ba7792686d113": {
          "model_module": "@jupyter-widgets/base",
          "model_module_version": "1.2.0",
          "model_name": "LayoutModel",
          "state": {
            "_model_module": "@jupyter-widgets/base",
            "_model_module_version": "1.2.0",
            "_model_name": "LayoutModel",
            "_view_count": null,
            "_view_module": "@jupyter-widgets/base",
            "_view_module_version": "1.2.0",
            "_view_name": "LayoutView",
            "align_content": null,
            "align_items": null,
            "align_self": null,
            "border": null,
            "bottom": null,
            "display": null,
            "flex": null,
            "flex_flow": null,
            "grid_area": null,
            "grid_auto_columns": null,
            "grid_auto_flow": null,
            "grid_auto_rows": null,
            "grid_column": null,
            "grid_gap": null,
            "grid_row": null,
            "grid_template_areas": null,
            "grid_template_columns": null,
            "grid_template_rows": null,
            "height": null,
            "justify_content": null,
            "justify_items": null,
            "left": null,
            "margin": null,
            "max_height": null,
            "max_width": null,
            "min_height": null,
            "min_width": null,
            "object_fit": null,
            "object_position": null,
            "order": null,
            "overflow": null,
            "overflow_x": null,
            "overflow_y": null,
            "padding": null,
            "right": null,
            "top": null,
            "visibility": null,
            "width": null
          }
        },
        "6f80c9beff7640ef8d69efff2eb1ee59": {
          "model_module": "@jupyter-widgets/base",
          "model_module_version": "1.2.0",
          "model_name": "LayoutModel",
          "state": {
            "_model_module": "@jupyter-widgets/base",
            "_model_module_version": "1.2.0",
            "_model_name": "LayoutModel",
            "_view_count": null,
            "_view_module": "@jupyter-widgets/base",
            "_view_module_version": "1.2.0",
            "_view_name": "LayoutView",
            "align_content": null,
            "align_items": null,
            "align_self": null,
            "border": null,
            "bottom": null,
            "display": null,
            "flex": null,
            "flex_flow": null,
            "grid_area": null,
            "grid_auto_columns": null,
            "grid_auto_flow": null,
            "grid_auto_rows": null,
            "grid_column": null,
            "grid_gap": null,
            "grid_row": null,
            "grid_template_areas": null,
            "grid_template_columns": null,
            "grid_template_rows": null,
            "height": null,
            "justify_content": null,
            "justify_items": null,
            "left": null,
            "margin": null,
            "max_height": null,
            "max_width": null,
            "min_height": null,
            "min_width": null,
            "object_fit": null,
            "object_position": null,
            "order": null,
            "overflow": null,
            "overflow_x": null,
            "overflow_y": null,
            "padding": null,
            "right": null,
            "top": null,
            "visibility": null,
            "width": null
          }
        },
        "7110f165cfa44cb1ba32a4c7e7dadbbd": {
          "model_module": "@jupyter-widgets/controls",
          "model_module_version": "1.5.0",
          "model_name": "DescriptionStyleModel",
          "state": {
            "_model_module": "@jupyter-widgets/controls",
            "_model_module_version": "1.5.0",
            "_model_name": "DescriptionStyleModel",
            "_view_count": null,
            "_view_module": "@jupyter-widgets/base",
            "_view_module_version": "1.2.0",
            "_view_name": "StyleView",
            "description_width": ""
          }
        },
        "74a0479ec16d497295fb2e27217afcd7": {
          "model_module": "@jupyter-widgets/controls",
          "model_module_version": "1.5.0",
          "model_name": "HTMLModel",
          "state": {
            "_dom_classes": [],
            "_model_module": "@jupyter-widgets/controls",
            "_model_module_version": "1.5.0",
            "_model_name": "HTMLModel",
            "_view_count": null,
            "_view_module": "@jupyter-widgets/controls",
            "_view_module_version": "1.5.0",
            "_view_name": "HTMLView",
            "description": "",
            "description_tooltip": null,
            "layout": "IPY_MODEL_6f80c9beff7640ef8d69efff2eb1ee59",
            "placeholder": "​",
            "style": "IPY_MODEL_e8149ce7aa16436e9b4844f3cfb376e5",
            "value": "Map: 100%"
          }
        },
        "7f239e5fb6a54609abfedad5863fd5f6": {
          "model_module": "@jupyter-widgets/controls",
          "model_module_version": "1.5.0",
          "model_name": "DescriptionStyleModel",
          "state": {
            "_model_module": "@jupyter-widgets/controls",
            "_model_module_version": "1.5.0",
            "_model_name": "DescriptionStyleModel",
            "_view_count": null,
            "_view_module": "@jupyter-widgets/base",
            "_view_module_version": "1.2.0",
            "_view_name": "StyleView",
            "description_width": ""
          }
        },
        "97b54b5591eb49aa8dd21ec819ef8257": {
          "model_module": "@jupyter-widgets/controls",
          "model_module_version": "1.5.0",
          "model_name": "HTMLModel",
          "state": {
            "_dom_classes": [],
            "_model_module": "@jupyter-widgets/controls",
            "_model_module_version": "1.5.0",
            "_model_name": "HTMLModel",
            "_view_count": null,
            "_view_module": "@jupyter-widgets/controls",
            "_view_module_version": "1.5.0",
            "_view_name": "HTMLView",
            "description": "",
            "description_tooltip": null,
            "layout": "IPY_MODEL_be415ed958b54dcaa137d7851963bc86",
            "placeholder": "​",
            "style": "IPY_MODEL_313dc62b808947319192fd3eb6c62799",
            "value": " 750/750 [00:00&lt;00:00, 1451.71 examples/s]"
          }
        },
        "9afcd38d7b6b426daf0b5545e2c32fc2": {
          "model_module": "@jupyter-widgets/base",
          "model_module_version": "1.2.0",
          "model_name": "LayoutModel",
          "state": {
            "_model_module": "@jupyter-widgets/base",
            "_model_module_version": "1.2.0",
            "_model_name": "LayoutModel",
            "_view_count": null,
            "_view_module": "@jupyter-widgets/base",
            "_view_module_version": "1.2.0",
            "_view_name": "LayoutView",
            "align_content": null,
            "align_items": null,
            "align_self": null,
            "border": null,
            "bottom": null,
            "display": null,
            "flex": null,
            "flex_flow": null,
            "grid_area": null,
            "grid_auto_columns": null,
            "grid_auto_flow": null,
            "grid_auto_rows": null,
            "grid_column": null,
            "grid_gap": null,
            "grid_row": null,
            "grid_template_areas": null,
            "grid_template_columns": null,
            "grid_template_rows": null,
            "height": null,
            "justify_content": null,
            "justify_items": null,
            "left": null,
            "margin": null,
            "max_height": null,
            "max_width": null,
            "min_height": null,
            "min_width": null,
            "object_fit": null,
            "object_position": null,
            "order": null,
            "overflow": null,
            "overflow_x": null,
            "overflow_y": null,
            "padding": null,
            "right": null,
            "top": null,
            "visibility": null,
            "width": null
          }
        },
        "a4cdeaaec790438886128821196f265d": {
          "model_module": "@jupyter-widgets/controls",
          "model_module_version": "1.5.0",
          "model_name": "HTMLModel",
          "state": {
            "_dom_classes": [],
            "_model_module": "@jupyter-widgets/controls",
            "_model_module_version": "1.5.0",
            "_model_name": "HTMLModel",
            "_view_count": null,
            "_view_module": "@jupyter-widgets/controls",
            "_view_module_version": "1.5.0",
            "_view_name": "HTMLView",
            "description": "",
            "description_tooltip": null,
            "layout": "IPY_MODEL_01c94c7252b748c6b79f3509ccb5c270",
            "placeholder": "​",
            "style": "IPY_MODEL_c497a894c48b49fe9413e94a0817b935",
            "value": " 3500/3500 [00:06&lt;00:00, 986.96 examples/s]"
          }
        },
        "a8ab196dfe6649499561c6ca757aa3d9": {
          "model_module": "@jupyter-widgets/base",
          "model_module_version": "1.2.0",
          "model_name": "LayoutModel",
          "state": {
            "_model_module": "@jupyter-widgets/base",
            "_model_module_version": "1.2.0",
            "_model_name": "LayoutModel",
            "_view_count": null,
            "_view_module": "@jupyter-widgets/base",
            "_view_module_version": "1.2.0",
            "_view_name": "LayoutView",
            "align_content": null,
            "align_items": null,
            "align_self": null,
            "border": null,
            "bottom": null,
            "display": null,
            "flex": null,
            "flex_flow": null,
            "grid_area": null,
            "grid_auto_columns": null,
            "grid_auto_flow": null,
            "grid_auto_rows": null,
            "grid_column": null,
            "grid_gap": null,
            "grid_row": null,
            "grid_template_areas": null,
            "grid_template_columns": null,
            "grid_template_rows": null,
            "height": null,
            "justify_content": null,
            "justify_items": null,
            "left": null,
            "margin": null,
            "max_height": null,
            "max_width": null,
            "min_height": null,
            "min_width": null,
            "object_fit": null,
            "object_position": null,
            "order": null,
            "overflow": null,
            "overflow_x": null,
            "overflow_y": null,
            "padding": null,
            "right": null,
            "top": null,
            "visibility": null,
            "width": null
          }
        },
        "a95526e2b49545adb5e684f82e736ebf": {
          "model_module": "@jupyter-widgets/base",
          "model_module_version": "1.2.0",
          "model_name": "LayoutModel",
          "state": {
            "_model_module": "@jupyter-widgets/base",
            "_model_module_version": "1.2.0",
            "_model_name": "LayoutModel",
            "_view_count": null,
            "_view_module": "@jupyter-widgets/base",
            "_view_module_version": "1.2.0",
            "_view_name": "LayoutView",
            "align_content": null,
            "align_items": null,
            "align_self": null,
            "border": null,
            "bottom": null,
            "display": null,
            "flex": null,
            "flex_flow": null,
            "grid_area": null,
            "grid_auto_columns": null,
            "grid_auto_flow": null,
            "grid_auto_rows": null,
            "grid_column": null,
            "grid_gap": null,
            "grid_row": null,
            "grid_template_areas": null,
            "grid_template_columns": null,
            "grid_template_rows": null,
            "height": null,
            "justify_content": null,
            "justify_items": null,
            "left": null,
            "margin": null,
            "max_height": null,
            "max_width": null,
            "min_height": null,
            "min_width": null,
            "object_fit": null,
            "object_position": null,
            "order": null,
            "overflow": null,
            "overflow_x": null,
            "overflow_y": null,
            "padding": null,
            "right": null,
            "top": null,
            "visibility": null,
            "width": null
          }
        },
        "b00342f932cc4c68ba15e366357d497f": {
          "model_module": "@jupyter-widgets/controls",
          "model_module_version": "1.5.0",
          "model_name": "HTMLModel",
          "state": {
            "_dom_classes": [],
            "_model_module": "@jupyter-widgets/controls",
            "_model_module_version": "1.5.0",
            "_model_name": "HTMLModel",
            "_view_count": null,
            "_view_module": "@jupyter-widgets/controls",
            "_view_module_version": "1.5.0",
            "_view_name": "HTMLView",
            "description": "",
            "description_tooltip": null,
            "layout": "IPY_MODEL_a95526e2b49545adb5e684f82e736ebf",
            "placeholder": "​",
            "style": "IPY_MODEL_7f239e5fb6a54609abfedad5863fd5f6",
            "value": " 750/750 [00:00&lt;00:00, 1156.53 examples/s]"
          }
        },
        "b6d594500bfe473b90f23dc258a675a8": {
          "model_module": "@jupyter-widgets/base",
          "model_module_version": "1.2.0",
          "model_name": "LayoutModel",
          "state": {
            "_model_module": "@jupyter-widgets/base",
            "_model_module_version": "1.2.0",
            "_model_name": "LayoutModel",
            "_view_count": null,
            "_view_module": "@jupyter-widgets/base",
            "_view_module_version": "1.2.0",
            "_view_name": "LayoutView",
            "align_content": null,
            "align_items": null,
            "align_self": null,
            "border": null,
            "bottom": null,
            "display": null,
            "flex": null,
            "flex_flow": null,
            "grid_area": null,
            "grid_auto_columns": null,
            "grid_auto_flow": null,
            "grid_auto_rows": null,
            "grid_column": null,
            "grid_gap": null,
            "grid_row": null,
            "grid_template_areas": null,
            "grid_template_columns": null,
            "grid_template_rows": null,
            "height": null,
            "justify_content": null,
            "justify_items": null,
            "left": null,
            "margin": null,
            "max_height": null,
            "max_width": null,
            "min_height": null,
            "min_width": null,
            "object_fit": null,
            "object_position": null,
            "order": null,
            "overflow": null,
            "overflow_x": null,
            "overflow_y": null,
            "padding": null,
            "right": null,
            "top": null,
            "visibility": null,
            "width": null
          }
        },
        "be415ed958b54dcaa137d7851963bc86": {
          "model_module": "@jupyter-widgets/base",
          "model_module_version": "1.2.0",
          "model_name": "LayoutModel",
          "state": {
            "_model_module": "@jupyter-widgets/base",
            "_model_module_version": "1.2.0",
            "_model_name": "LayoutModel",
            "_view_count": null,
            "_view_module": "@jupyter-widgets/base",
            "_view_module_version": "1.2.0",
            "_view_name": "LayoutView",
            "align_content": null,
            "align_items": null,
            "align_self": null,
            "border": null,
            "bottom": null,
            "display": null,
            "flex": null,
            "flex_flow": null,
            "grid_area": null,
            "grid_auto_columns": null,
            "grid_auto_flow": null,
            "grid_auto_rows": null,
            "grid_column": null,
            "grid_gap": null,
            "grid_row": null,
            "grid_template_areas": null,
            "grid_template_columns": null,
            "grid_template_rows": null,
            "height": null,
            "justify_content": null,
            "justify_items": null,
            "left": null,
            "margin": null,
            "max_height": null,
            "max_width": null,
            "min_height": null,
            "min_width": null,
            "object_fit": null,
            "object_position": null,
            "order": null,
            "overflow": null,
            "overflow_x": null,
            "overflow_y": null,
            "padding": null,
            "right": null,
            "top": null,
            "visibility": null,
            "width": null
          }
        },
        "c497a894c48b49fe9413e94a0817b935": {
          "model_module": "@jupyter-widgets/controls",
          "model_module_version": "1.5.0",
          "model_name": "DescriptionStyleModel",
          "state": {
            "_model_module": "@jupyter-widgets/controls",
            "_model_module_version": "1.5.0",
            "_model_name": "DescriptionStyleModel",
            "_view_count": null,
            "_view_module": "@jupyter-widgets/base",
            "_view_module_version": "1.2.0",
            "_view_name": "StyleView",
            "description_width": ""
          }
        },
        "d31e9ba075d1404eaa3addf1f804d0a7": {
          "model_module": "@jupyter-widgets/base",
          "model_module_version": "1.2.0",
          "model_name": "LayoutModel",
          "state": {
            "_model_module": "@jupyter-widgets/base",
            "_model_module_version": "1.2.0",
            "_model_name": "LayoutModel",
            "_view_count": null,
            "_view_module": "@jupyter-widgets/base",
            "_view_module_version": "1.2.0",
            "_view_name": "LayoutView",
            "align_content": null,
            "align_items": null,
            "align_self": null,
            "border": null,
            "bottom": null,
            "display": null,
            "flex": null,
            "flex_flow": null,
            "grid_area": null,
            "grid_auto_columns": null,
            "grid_auto_flow": null,
            "grid_auto_rows": null,
            "grid_column": null,
            "grid_gap": null,
            "grid_row": null,
            "grid_template_areas": null,
            "grid_template_columns": null,
            "grid_template_rows": null,
            "height": null,
            "justify_content": null,
            "justify_items": null,
            "left": null,
            "margin": null,
            "max_height": null,
            "max_width": null,
            "min_height": null,
            "min_width": null,
            "object_fit": null,
            "object_position": null,
            "order": null,
            "overflow": null,
            "overflow_x": null,
            "overflow_y": null,
            "padding": null,
            "right": null,
            "top": null,
            "visibility": null,
            "width": null
          }
        },
        "e308df24458b4433824e8392fd90362c": {
          "model_module": "@jupyter-widgets/base",
          "model_module_version": "1.2.0",
          "model_name": "LayoutModel",
          "state": {
            "_model_module": "@jupyter-widgets/base",
            "_model_module_version": "1.2.0",
            "_model_name": "LayoutModel",
            "_view_count": null,
            "_view_module": "@jupyter-widgets/base",
            "_view_module_version": "1.2.0",
            "_view_name": "LayoutView",
            "align_content": null,
            "align_items": null,
            "align_self": null,
            "border": null,
            "bottom": null,
            "display": null,
            "flex": null,
            "flex_flow": null,
            "grid_area": null,
            "grid_auto_columns": null,
            "grid_auto_flow": null,
            "grid_auto_rows": null,
            "grid_column": null,
            "grid_gap": null,
            "grid_row": null,
            "grid_template_areas": null,
            "grid_template_columns": null,
            "grid_template_rows": null,
            "height": null,
            "justify_content": null,
            "justify_items": null,
            "left": null,
            "margin": null,
            "max_height": null,
            "max_width": null,
            "min_height": null,
            "min_width": null,
            "object_fit": null,
            "object_position": null,
            "order": null,
            "overflow": null,
            "overflow_x": null,
            "overflow_y": null,
            "padding": null,
            "right": null,
            "top": null,
            "visibility": null,
            "width": null
          }
        },
        "e528c952d58d41adb6ec1e106e35cb34": {
          "model_module": "@jupyter-widgets/controls",
          "model_module_version": "1.5.0",
          "model_name": "DescriptionStyleModel",
          "state": {
            "_model_module": "@jupyter-widgets/controls",
            "_model_module_version": "1.5.0",
            "_model_name": "DescriptionStyleModel",
            "_view_count": null,
            "_view_module": "@jupyter-widgets/base",
            "_view_module_version": "1.2.0",
            "_view_name": "StyleView",
            "description_width": ""
          }
        },
        "e7ef263fea2c41c8aaffc21c674c85eb": {
          "model_module": "@jupyter-widgets/controls",
          "model_module_version": "1.5.0",
          "model_name": "ProgressStyleModel",
          "state": {
            "_model_module": "@jupyter-widgets/controls",
            "_model_module_version": "1.5.0",
            "_model_name": "ProgressStyleModel",
            "_view_count": null,
            "_view_module": "@jupyter-widgets/base",
            "_view_module_version": "1.2.0",
            "_view_name": "StyleView",
            "bar_color": null,
            "description_width": ""
          }
        },
        "e8149ce7aa16436e9b4844f3cfb376e5": {
          "model_module": "@jupyter-widgets/controls",
          "model_module_version": "1.5.0",
          "model_name": "DescriptionStyleModel",
          "state": {
            "_model_module": "@jupyter-widgets/controls",
            "_model_module_version": "1.5.0",
            "_model_name": "DescriptionStyleModel",
            "_view_count": null,
            "_view_module": "@jupyter-widgets/base",
            "_view_module_version": "1.2.0",
            "_view_name": "StyleView",
            "description_width": ""
          }
        },
        "eeac7b53b4b541e9ae52e31a559a5a7b": {
          "model_module": "@jupyter-widgets/controls",
          "model_module_version": "1.5.0",
          "model_name": "HBoxModel",
          "state": {
            "_dom_classes": [],
            "_model_module": "@jupyter-widgets/controls",
            "_model_module_version": "1.5.0",
            "_model_name": "HBoxModel",
            "_view_count": null,
            "_view_module": "@jupyter-widgets/controls",
            "_view_module_version": "1.5.0",
            "_view_name": "HBoxView",
            "box_style": "",
            "children": [
              "IPY_MODEL_3df713719e1940a78dfbdb78b187d1e2",
              "IPY_MODEL_16fd5d4d4625420fa74b8f3da34525aa",
              "IPY_MODEL_b00342f932cc4c68ba15e366357d497f"
            ],
            "layout": "IPY_MODEL_625232c3b8584700a00ba7792686d113"
          }
        }
      }
    }
  },
  "nbformat": 4,
  "nbformat_minor": 0
}
